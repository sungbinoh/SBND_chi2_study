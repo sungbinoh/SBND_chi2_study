{
 "cells": [
  {
   "cell_type": "code",
   "execution_count": null,
   "metadata": {},
   "outputs": [],
   "source": [
    "import os\n",
    "\n",
    "import numpy as np\n",
    "import math\n",
    "import uproot as uproot\n",
    "import pickle\n",
    "import pandas as pd\n",
    "\n",
    "import matplotlib.pyplot as plt\n",
    "import matplotlib.colors\n",
    "from matplotlib.colors import LinearSegmentedColormap\n",
    "from matplotlib import ticker\n",
    "from matplotlib.ticker import (AutoMinorLocator, MultipleLocator)\n",
    "from matplotlib import gridspec\n",
    "import dunestyle.matplotlib as dunestyle\n",
    "\n",
    "import scipy.stats as stats\n",
    "from scipy.stats import norm\n",
    "from scipy.stats import median_abs_deviation\n",
    "from scipy.interpolate import CubicSpline\n",
    "from scipy.optimize import curve_fit\n",
    "import scipy.linalg as la\n",
    "import scipy.optimize as opt\n",
    "from scipy.optimize import Bounds, LinearConstraint\n",
    "from scipy.stats import chisquare\n",
    "\n",
    "from landaupy import langauss\n",
    "\n",
    "from branches import *\n",
    "from pandas_helpers import *"
   ]
  },
  {
   "cell_type": "code",
   "execution_count": null,
   "metadata": {},
   "outputs": [],
   "source": [
    "PDG = {\n",
    "    \"muon\": [13, \"muon\", 0.105,],\n",
    "    \"proton\": [2212, \"proton\", 0.938272,], \n",
    "    \"neutron\": [2112, \"neutron\", 0.9395654,], \n",
    "    \"pizero\": [111, \"pizero\", 0.1349768], \n",
    "    \"piplus\": [211, \"piplus\", 0.13957039], \n",
    "    \"piminus\": [-211, \"piminus\", 0.13957039], \n",
    "    \"argon\": [1000180400, \"argon\", (18*0.938272 + 22*0.9395654)], \n",
    "    \"gamma\": [22, \"gamma\", 0 ], \n",
    "    \"lambda\": [3122, \"lambda\", 1.115683], \n",
    "    \"kaon_p\": [321, \"kaon_p\",  0.493677], \n",
    "    \"sigma_p\": [3222, \"sigma_p\", 1.18936], \n",
    "    \"kaon_0\": [311, \"kaon_0\", 0.497648], \n",
    "    \"sigma_0\": [3212, \"sigma_0\", 1.19246], \n",
    "    \"lambda_p_c\": [4122, \"lambda_p_c\", 2.28646], \n",
    "    \"sigma_pp_c\": [4222, \"sigma_pp_c\", 2.45397], \n",
    "    \"electron\": [11, \"electron\", 0.510998950], \n",
    "    \"sigma_p_c\": [4212, \"sigma_p_c\", 2.4529],\n",
    "}\n",
    "\n",
    "THRESHOLD = {\"muon\": 0.175, \"proton\": 0.3, \"proton_stub\": 0.2, \"picharged\": 0.07, \"pizero\":0}"
   ]
  },
  {
   "cell_type": "code",
   "execution_count": null,
   "metadata": {},
   "outputs": [],
   "source": [
    "def InFV(data): # cm\n",
    "    xmin = -199.15 + 10\n",
    "    ymin = -200. + 10\n",
    "    zmin = 0.0 + 10\n",
    "    xmax = 199.15 - 10\n",
    "    ymax =  200. - 10\n",
    "    zmax =  500. - 50\n",
    "    return (data.x > xmin) & (data.x < xmax) & (data.y > ymin) & (data.y < ymax) & (data.z > zmin) & (data.z < zmax)\n",
    "\n",
    "def InBeam(t):\n",
    "    return (t > 0.) & (t < 1.800)\n",
    "\n",
    "def Avg(df, pid, drop_0=True):  # average score of 3 planes, exclude value if 0\n",
    "    if drop_0:\n",
    "        df = df.replace(0, np.nan)\n",
    "    average = df[[(\"chi2pid\", \"I0\", \"chi2_\"+pid), (\"chi2pid\", \"I1\", \"chi2_\"+pid), (\"chi2pid\", \"I2\", \"chi2_\"+pid)]].mean(skipna=drop_0, axis=1)\n",
    "    return average\n",
    "\n",
    "def Signal(df): # signal definition\n",
    "    is_fv = InFV(df.nu.position)\n",
    "    is_numu = (df.nu.pdg == 14)\n",
    "    is_cc = (df.nu.iscc == 1)\n",
    "    is_1p0pi = (df.mult_proton_def == 1) & (df.mult_picharged_def == 0) & (df.mult_pizero == 0)\n",
    "    return is_fv & is_numu & is_cc # & is_1p0pi"
   ]
  },
  {
   "cell_type": "code",
   "execution_count": null,
   "metadata": {},
   "outputs": [],
   "source": [
    "fname = '/Users/sungbino/Study/FNAL/SBND/data/flatcaf/2024A_test/2024_genie_cv/reco2_hadd.root'\n",
    "#fname = '/Users/sungbino/Study/FNAL/SBND/data/flatcaf/2024A_test/2024_genie_cv/reco2_5_files_hadd.root'\n",
    "events = uproot.open(fname+\":recTree\")"
   ]
  },
  {
   "cell_type": "code",
   "execution_count": null,
   "metadata": {},
   "outputs": [],
   "source": [
    "# MC truth\n",
    "nudf = loadbranches(events, mc_branches)\n",
    "nudf = nudf.rec.mc\n",
    "\n",
    "nuprimdf = loadbranches(events, mc_prim_branches)\n",
    "nuprimdf = nuprimdf.rec.mc.nu\n",
    "nuprimdf[(\"prim\",\"totp\",\"\")] = np.sqrt((nuprimdf.prim.startp.x)**2+(nuprimdf.prim.startp.y)**2+(nuprimdf.prim.startp.z)**2) # |momentum| branch\n",
    "\n",
    "# primary track multiplicity\n",
    "mult_muon = (nuprimdf.prim.pdg == 13).groupby(level=[0,1]).sum()\n",
    "mult_muon_def = ((nuprimdf.prim.pdg == 13) & (nuprimdf.prim.totp > THRESHOLD[\"muon\"])).groupby(level=[0,1]).sum()\n",
    "mult_proton = (nuprimdf.prim.pdg == 2212).groupby(level=[0,1]).sum()\n",
    "mult_proton_def = ((nuprimdf.prim.pdg == 2212) & (nuprimdf.prim.totp > THRESHOLD[\"proton\"])).groupby(level=[0,1]).sum()\n",
    "mult_proton_stub_def = ((nuprimdf.prim.pdg == 2212) & (nuprimdf.prim.totp > THRESHOLD[\"proton_stub\"])).groupby(level=[0,1]).sum()\n",
    "mult_picharged = (np.abs(nuprimdf.prim.pdg) == 211).groupby(level=[0,1]).sum()\n",
    "mult_picharged_def = ((np.abs(nuprimdf.prim.pdg) == 211) & (nuprimdf.prim.totp > THRESHOLD[\"picharged\"])).groupby(level=[0,1]).sum()\n",
    "mult_pizero = (np.abs(nuprimdf.prim.pdg) == 211).groupby(level=[0,1]).sum()\n",
    "mult_pizero_def = ((np.abs(nuprimdf.prim.pdg) == 111) & (nuprimdf.prim.totp > THRESHOLD[\"pizero\"])).groupby(level=[0,1]).sum()\n",
    "mult_electron = (nuprimdf.prim.pdg == 11).groupby(level=[0,1]).sum()\n",
    "mult_photon = (nuprimdf.prim.pdg == 22).groupby(level=[0,1]).sum()\n",
    "nudf['mult_muon'] = mult_muon\n",
    "nudf['mult_muon_def'] = mult_muon_def\n",
    "nudf['mult_proton'] = mult_proton\n",
    "nudf['mult_proton_def'] = mult_proton_def\n",
    "nudf['mult_proton_stub_def'] = mult_proton_stub_def\n",
    "nudf['mult_picharged'] = mult_picharged\n",
    "nudf['mult_picharged_def'] = mult_picharged_def\n",
    "nudf['mult_pizero'] = mult_pizero\n",
    "nudf['mult_pizero_def'] = mult_pizero_def\n",
    "nudf['mult_electron'] = mult_electron\n",
    "nudf['mult_photon'] = mult_photon\n",
    "\n",
    "# truth match\n",
    "slcdf = loadbranches(events, slc_branches)\n",
    "slcdf = slcdf.rec\n",
    "\n",
    "slcdf.loc[np.invert(slcdf[(\"slc\",\"tmatch\",\"eff\")] > 0.5) & (slcdf[(\"slc\",\"tmatch\",\"idx\")] >= 0), (\"slc\",\"tmatch\",\"idx\")] = np.nan\n",
    "slcdf[\"tmatch_index\"] = slcdf[(\"slc\", \"tmatch\", \"idx\")]\n",
    "\n",
    "matchdf = pd.merge(slcdf.reset_index(), \n",
    "                 nudf.reset_index(),\n",
    "                 left_on=[(\"entry\", \"\",\"\"), (\"slc\",\"tmatch\", \"idx\")], # entry index -> neutrino index\n",
    "                 right_on=[(\"entry\", \"\",\"\"), (\"rec.mc.nu..index\", \"\",\"\")], \n",
    "                 how=\"left\", # Keep every slc\n",
    "                 )\n",
    "\n",
    "matchdf = matchdf.set_index([\"entry\", \"rec.slc..index\"], verify_integrity=True)"
   ]
  },
  {
   "cell_type": "code",
   "execution_count": null,
   "metadata": {},
   "outputs": [],
   "source": [
    "# reco pfps\n",
    "pfptrkdf = loadbranches(events, pfp_trk_branches)\n",
    "pfptrkdf = pfptrkdf.rec.slc.reco.pfp\n",
    "\n",
    "pfptrkchi2df = loadbranches(events, pfp_trk_chi2_branches)\n",
    "pfptrkchi2df = pfptrkchi2df.rec.slc.reco.pfp.trk\n",
    "\n",
    "pfptrkdf = pfptrkdf.join(pfptrkchi2df)\n",
    "\n",
    "pfptruthdf = loadbranches(events, pfp_trk_mc_branches)\n",
    "pfptruthdf = pfptruthdf.rec.slc.reco.pfp.trk.truth\n",
    "\n",
    "pfpdf = pd.merge(pfptrkdf, pfptruthdf, left_index=True, right_index=True, how=\"inner\")\n",
    "\n",
    "pandoradf = loadbranches(events, pandora_branches)\n",
    "pandoradf = pandoradf.rec.slc\n",
    "\n",
    "pfpdf = pd.merge(pfpdf, pandoradf, left_index=True, right_index=True, how=\"inner\")\n",
    "\n",
    "# merge all\n",
    "masterdf = pd.merge(matchdf, pfpdf, left_index=True, right_index=True, how=\"inner\")"
   ]
  },
  {
   "cell_type": "code",
   "execution_count": null,
   "metadata": {},
   "outputs": [],
   "source": [
    "## reco pfp track hits\n",
    "pfptrkhit0df = loadbranches(events, pfp_trk_hit0_branches)\n",
    "pfptrkhit1df = loadbranches(events, pfp_trk_hit1_branches)\n",
    "pfptrkhit2df = loadbranches(events, pfp_trk_hit2_branches)\n",
    "pfptrkhit0df = pfptrkhit0df.rec.slc.reco.pfp.trk.calo.I0.points\n",
    "pfptrkhit1df = pfptrkhit1df.rec.slc.reco.pfp.trk.calo.I1.points\n",
    "pfptrkhit2df = pfptrkhit2df.rec.slc.reco.pfp.trk.calo.I2.points\n",
    "\n",
    "pfptrkhit0df.index.set_names(\"rec.slc.reco.pfp.trk.calo.points..index\", level=\"rec.slc.reco.pfp.trk.calo.0.points..index\", inplace=True)\n",
    "pfptrkhit1df.index.set_names(\"rec.slc.reco.pfp.trk.calo.points..index\", level=\"rec.slc.reco.pfp.trk.calo.1.points..index\", inplace=True)\n",
    "pfptrkhit2df.index.set_names(\"rec.slc.reco.pfp.trk.calo.points..index\", level=\"rec.slc.reco.pfp.trk.calo.2.points..index\", inplace=True)"
   ]
  },
  {
   "cell_type": "code",
   "execution_count": null,
   "metadata": {},
   "outputs": [],
   "source": [
    "# reco vertex in FV\n",
    "cut = InFV(masterdf.slc.vertex)\n",
    "df_vertexcut = masterdf[cut]"
   ]
  },
  {
   "cell_type": "code",
   "execution_count": null,
   "metadata": {},
   "outputs": [],
   "source": [
    "# cosmic rejection\n",
    "cut_nuscore = (df_vertexcut.slc.nu_score.squeeze() > 0.4)\n",
    "cut_fmatch = ((df_vertexcut.slc.fmatch.score < 7.0) & (InBeam(df_vertexcut.slc.fmatch.time)))\n",
    "df_cosmiccut = df_vertexcut[cut_nuscore & cut_fmatch]"
   ]
  },
  {
   "cell_type": "code",
   "execution_count": null,
   "metadata": {},
   "outputs": [],
   "source": [
    "# Long muon selection\n",
    "MUCUT_LEN_THRES = 100\n",
    "cut_len = (df_cosmiccut.trk.len > MUCUT_LEN_THRES)\n",
    "primary_muons = df_cosmiccut[cut_len]\n",
    "primary_muons = primary_muons.sort_values([\"entry\", \"rec.slc..index\", (\"trk\",\"len\",\"\")], ascending=[True, True, False])\n",
    "leading_muon = primary_muons.groupby([\"entry\", \"rec.slc..index\"]).head(1) \n",
    "slc_idx_1mu = leading_muon.reset_index().set_index([\"entry\", \"rec.slc..index\"]).index.unique()\n",
    "df_1mucut = df_cosmiccut.reset_index().set_index([\"entry\", \"rec.slc..index\"]).loc[slc_idx_1mu]\n",
    "df_1mucut = df_1mucut.reset_index().set_index([\"entry\", \"rec.slc..index\", \"rec.slc.reco.pfp..index\"], verify_integrity=True)"
   ]
  },
  {
   "cell_type": "code",
   "execution_count": null,
   "metadata": {},
   "outputs": [],
   "source": [
    "# Track score cut\n",
    "cut_trk_score = (leading_muon[('reco', 'pfp', 'trackScore')] > 0.5)\n",
    "trk_muon = leading_muon[cut_trk_score]"
   ]
  },
  {
   "cell_type": "code",
   "execution_count": null,
   "metadata": {},
   "outputs": [],
   "source": [
    "# Contained muon selection\n",
    "#cut_contained = (InFV(df_1mucut[('trk', 'start')])) & InFV(df_1mucut[('trk', 'end')])\n",
    "cut_contained = (InFV(trk_muon[('trk', 'start')])) & InFV(trk_muon[('trk', 'end')])\n",
    "df_contained_muon = trk_muon[cut_contained]"
   ]
  },
  {
   "cell_type": "code",
   "execution_count": null,
   "metadata": {},
   "outputs": [],
   "source": [
    "hit_branches = pfptrkhit0df.columns.tolist()\n",
    "hit0_sel_df = pd.merge(pfptrkhit0df.reset_index(), df_contained_muon.reset_index(),\n",
    "                        left_on=[(\"entry\"), (\"rec.slc..index\"), (\"rec.slc.reco.pfp..index\")],\n",
    "                        right_on=[(\"entry\"), (\"rec.slc..index\"), (\"rec.slc.reco.pfp..index\")], \n",
    "                        how=\"inner\",\n",
    "                        )\n",
    "\n",
    "hit1_sel_df = pd.merge(pfptrkhit1df.reset_index(), df_contained_muon.reset_index(),\n",
    "                        left_on=[(\"entry\"), (\"rec.slc..index\"), (\"rec.slc.reco.pfp..index\")],\n",
    "                        right_on=[(\"entry\"), (\"rec.slc..index\"), (\"rec.slc.reco.pfp..index\")], \n",
    "                        how=\"inner\",\n",
    "                        )\n",
    "\n",
    "hit2_sel_df = pd.merge(pfptrkhit2df.reset_index(), df_contained_muon.reset_index(),\n",
    "                        left_on=[(\"entry\"), (\"rec.slc..index\"), (\"rec.slc.reco.pfp..index\")],\n",
    "                        right_on=[(\"entry\"), (\"rec.slc..index\"), (\"rec.slc.reco.pfp..index\")], \n",
    "                        how=\"inner\",\n",
    "                        )"
   ]
  },
  {
   "cell_type": "code",
   "execution_count": null,
   "metadata": {},
   "outputs": [],
   "source": [
    "pdg_list = hit0_sel_df[('p', 'pdg', '')].value_counts()\n",
    "print(pdg_list)"
   ]
  },
  {
   "cell_type": "code",
   "execution_count": null,
   "metadata": {},
   "outputs": [],
   "source": [
    "## Make pickle file\n",
    "out_path = \"/Users/sungbino/Study/FNAL/SBND/calib/chi2_pid/pickle/\"\n",
    "\n",
    "with open(os.path.join(out_path, \"hit0_sel_df.pkl\"), \"wb\") as f:\n",
    "    pickle.dump(hit0_sel_df, f)"
   ]
  }
 ],
 "metadata": {
  "kernelspec": {
   "display_name": "moon_git",
   "language": "python",
   "name": "python3"
  },
  "language_info": {
   "codemirror_mode": {
    "name": "ipython",
    "version": 3
   },
   "file_extension": ".py",
   "mimetype": "text/x-python",
   "name": "python",
   "nbconvert_exporter": "python",
   "pygments_lexer": "ipython3",
   "version": "3.10.10"
  }
 },
 "nbformat": 4,
 "nbformat_minor": 2
}
